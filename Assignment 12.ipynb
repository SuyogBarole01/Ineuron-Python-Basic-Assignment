{
 "cells": [
  {
   "cell_type": "code",
   "execution_count": null,
   "id": "d3fadffb",
   "metadata": {},
   "outputs": [],
   "source": [
    "Ans 1.\n",
    "For PdfFileReader() file objects should be opened in rb -> read binary mode, Whereas for PdfFileWriter() file objects \n",
    "should be opened in wb -> write binary mode."
   ]
  },
  {
   "cell_type": "code",
   "execution_count": null,
   "id": "84c5ea55",
   "metadata": {},
   "outputs": [],
   "source": [
    "Ans 2.\n",
    "PdfFileReader class provides a method called getPage(page_no) to get a page object."
   ]
  },
  {
   "cell_type": "code",
   "execution_count": null,
   "id": "9b8902bc",
   "metadata": {},
   "outputs": [],
   "source": [
    "# Example Code:\n",
    "from PyPDF2 import PdfFileReader\n",
    "pdf_reader = PdfFileReader(file_path)\n",
    "for page in pdf_reader.getNumPages():\n",
    "    pdf_reader.getPage(page)"
   ]
  },
  {
   "cell_type": "code",
   "execution_count": null,
   "id": "444fd596",
   "metadata": {},
   "outputs": [],
   "source": [
    "Ans 3.\n",
    "getNumPages() method of PdfFileReader class stores the no pages in a PDF document"
   ]
  },
  {
   "cell_type": "code",
   "execution_count": null,
   "id": "f06987bf",
   "metadata": {},
   "outputs": [],
   "source": [
    "#Example Code:\n",
    "from PyPDF2 import PdfFileReader\n",
    "pdf_reader = PdfFileReader(file_path)\n",
    "print(pdf_reader.getNumPages()) # Prints the no of pages in a input document"
   ]
  },
  {
   "cell_type": "code",
   "execution_count": null,
   "id": "e01e1cce",
   "metadata": {},
   "outputs": [],
   "source": [
    "Ans 4.\n",
    "If a PdfFileReader object’s PDF is encrypted with the password swordfish and you're not aware of it. first read the \n",
    "Pdf using the PdfFileReader Class. PdfFileReader class provides a attribute called isEncrypted to check whether a pdf \n",
    "is encrypted or not. the method returns true if a pdf is encrypted and vice versa.\n",
    "\n",
    "If pdf is encrypted use the decrypt() method provided by PdfFileReader class first then try to read the contents/pages \n",
    "of the pdf, else PyPDF2 will raise the following error PyPDF2.utils.PdfReadError: file has not been decrypted"
   ]
  },
  {
   "cell_type": "code",
   "execution_count": null,
   "id": "17df5824",
   "metadata": {},
   "outputs": [],
   "source": [
    "#Example Code:\n",
    "from PyPDF2 import PdfFileReader\n",
    "pdf_reader = PdfFileReader(file_path)\n",
    "if pdf_reader.isEncrypted: # to check whether the pdf is encrypted or not\n",
    "    pdf_reader.decrypt(\"swordfish\")\n",
    "for page in pdf_reader.pages:\n",
    "    print(page.extractText()) # to print the text data of a page from pdf"
   ]
  },
  {
   "cell_type": "code",
   "execution_count": null,
   "id": "8347fb6f",
   "metadata": {},
   "outputs": [],
   "source": [
    "Ans 5.\n",
    "PyPDF2 Package provides 2 methods to rotate a page:\n",
    "\n",
    "rotateClockWise() -> For Clockwise rotation\n",
    "rotateCounterClockWise() -> For Counter Clockwise rotation\n",
    "The PyPDF2 package only allows you to rotate a page in increments of 90 degrees. You will receive an AssertionError otherwise."
   ]
  },
  {
   "cell_type": "code",
   "execution_count": null,
   "id": "8ab1221f",
   "metadata": {},
   "outputs": [],
   "source": [
    "Ans 6.\n",
    "The structure of a document is represented by three different data types in python-Docx. At the highest level, a Document \n",
    "object represents the entire document. The Document object contains a list of Paragraph objects for the paragraphs in the \n",
    "document. (A new paragraph begins whenever the user presses ENTER or RETURN while typing in a Word document.) Each of \n",
    "these Paragraph objects contains a list of one or more Run objects.\n",
    "\n",
    "The text in a Word document is more than just a string. It has font, size, color, and other styling information associated \n",
    "with it. A style in Word is a collection of these attributes. A Run object is a contiguous run of text with the same style. \n",
    "A new Run object is needed whenever the text style changes."
   ]
  },
  {
   "cell_type": "code",
   "execution_count": null,
   "id": "f4a357b2",
   "metadata": {},
   "outputs": [],
   "source": [
    "Ans 7.\n",
    "\n",
    "# Example Program\n",
    "from docx import Document\n",
    "doc = Document(\"sample_file.docx\") # Path of the Docx file\n",
    "print(doc.paragraphs) # Prints the list of Paragraph objects for a Document\n",
    "for paragraph in doc.paragraphs:\n",
    "    print(paragraph.text) # Prints the text in the paragraph"
   ]
  },
  {
   "cell_type": "code",
   "execution_count": null,
   "id": "6728d753",
   "metadata": {},
   "outputs": [],
   "source": [
    "Ans 8.\n",
    "Run object has bold, underline, italic, strike, and outline variables. The text in a Word document is more than just a string. \n",
    "It has font, size, color, and other styling information associated with it.\n",
    "\n",
    "A style in Word is a collection of these attributes. A Run object is a contiguous run of text with the same style.\n",
    "A new Run object is needed whenever the text style changes."
   ]
  },
  {
   "cell_type": "code",
   "execution_count": null,
   "id": "c1c04729",
   "metadata": {},
   "outputs": [],
   "source": [
    "Ans 9.\n",
    "\n",
    "bold = True  # Style Set to Bold\n",
    "bold = False # Style Not Set to Bold\n",
    "bold = None # Style is Not Applicable"
   ]
  },
  {
   "cell_type": "code",
   "execution_count": null,
   "id": "3537f828",
   "metadata": {},
   "outputs": [],
   "source": [
    "Ans 10.\n",
    "# Example Program\n",
    "from docx import Document\n",
    "document = Document()\n",
    "document.add_paragraph(\"iNeuron Full Stack DataScience Course\")\n",
    "document.save('mydocument.docx')"
   ]
  },
  {
   "cell_type": "code",
   "execution_count": null,
   "id": "4604522f",
   "metadata": {},
   "outputs": [],
   "source": [
    "Ans 11.\n",
    "# Example Program\n",
    "from docx import Document\n",
    "doc = Document()\n",
    "doc.add_paragraph('Hello, there!')\n",
    "doc.save('hello.docx')"
   ]
  },
  {
   "cell_type": "code",
   "execution_count": null,
   "id": "1efff10b",
   "metadata": {},
   "outputs": [],
   "source": [
    "Ans 12.\n",
    "The levels for a heading in a word document can be specified by using the level attribute inside the add_heading method. \n",
    "There are a total of 5 levels statring for 0 t0 4. where level 0 makes a headline with the horizontal line below the text, \n",
    "whereas the heading level 1 is the main heading. Similarly, the other headings are sub-heading with their's font-sizes in \n",
    "decreasing order."
   ]
  }
 ],
 "metadata": {
  "kernelspec": {
   "display_name": "Python 3 (ipykernel)",
   "language": "python",
   "name": "python3"
  },
  "language_info": {
   "codemirror_mode": {
    "name": "ipython",
    "version": 3
   },
   "file_extension": ".py",
   "mimetype": "text/x-python",
   "name": "python",
   "nbconvert_exporter": "python",
   "pygments_lexer": "ipython3",
   "version": "3.10.9"
  }
 },
 "nbformat": 4,
 "nbformat_minor": 5
}
