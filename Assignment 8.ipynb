{
 "cells": [
  {
   "cell_type": "code",
   "execution_count": null,
   "id": "9d75930a",
   "metadata": {},
   "outputs": [],
   "source": [
    "Ans 1.\n",
    "No, PyInputPlus is not a part of Python Standard Library, it needs to be installed explicitly using the \n",
    "command !pip install PyInputPlus"
   ]
  },
  {
   "cell_type": "code",
   "execution_count": null,
   "id": "9fa42a94",
   "metadata": {},
   "outputs": [],
   "source": [
    "Ans 2.\n",
    "You can import the module with import pyinputplus as pyip so that you can enter a shorter name when calling the \n",
    "module's functions."
   ]
  },
  {
   "cell_type": "code",
   "execution_count": null,
   "id": "291ac827",
   "metadata": {},
   "outputs": [],
   "source": [
    "Ans 3.\n",
    "inputInt() function Accepts an integer value. This also takes additional parameters min, max, greaterThan and \n",
    "lessThan for bounds. And it always returns an int.\n",
    "\n",
    "Whereas inputFloat() function Accepts a floating-point numeric value. this also takes additional min, max, \n",
    "greaterThan and lessThan parameters. and always returns a float."
   ]
  },
  {
   "cell_type": "code",
   "execution_count": null,
   "id": "d394525c",
   "metadata": {},
   "outputs": [],
   "source": [
    "Ans 4.\n",
    "PyInputPlus module provides a function called as inputInt() which only returns only integer values. inorder to \n",
    "restrict the input between 0 and 99, i'ii use parameters like min & max to ensure that user enters the values between \n",
    "the defined range only."
   ]
  },
  {
   "cell_type": "code",
   "execution_count": null,
   "id": "17386803",
   "metadata": {},
   "outputs": [],
   "source": [
    "import pyinputplus as pyip\n",
    "number = pyip.inputInt(prompt='Enter a number: ', min=0, max=100)\n",
    "print(number)"
   ]
  },
  {
   "cell_type": "code",
   "execution_count": null,
   "id": "563e6405",
   "metadata": {},
   "outputs": [],
   "source": [
    "Ans 5.\n",
    "We can use allowRegexes and blockRegexes keyword arguments to take list of regular expression strings to determine \n",
    "what the pyinputplus function will reject or accept valid input."
   ]
  },
  {
   "cell_type": "code",
   "execution_count": null,
   "id": "ea48b5e2",
   "metadata": {},
   "outputs": [],
   "source": [
    "Ans 6.\n",
    "The statement inputStr(limit=3) will throw two exceptions ValidationException and RetryLimitException. The first \n",
    "exception is thrown because blank values are not allowed by inputStr() function by default. it we want to consider \n",
    "blank values as valid input, we have to set blank=True.\n",
    "\n",
    "The second exception is occured because we have reached the max limit we have specified by using limit parameter. \n",
    "inorder to avoid this exception we can use default parameter to return a default value when max limit is reached."
   ]
  },
  {
   "cell_type": "code",
   "execution_count": null,
   "id": "d974eec6",
   "metadata": {},
   "outputs": [],
   "source": [
    "Ans 7.\n",
    "Since the default parameter is set to hello. after blank input is entered three times instead of raising \n",
    "RetryLimitException exception. the function will return hello as response to the calling function."
   ]
  },
  {
   "cell_type": "code",
   "execution_count": null,
   "id": "b41a620e",
   "metadata": {},
   "outputs": [],
   "source": []
  }
 ],
 "metadata": {
  "kernelspec": {
   "display_name": "Python 3 (ipykernel)",
   "language": "python",
   "name": "python3"
  },
  "language_info": {
   "codemirror_mode": {
    "name": "ipython",
    "version": 3
   },
   "file_extension": ".py",
   "mimetype": "text/x-python",
   "name": "python",
   "nbconvert_exporter": "python",
   "pygments_lexer": "ipython3",
   "version": "3.10.9"
  }
 },
 "nbformat": 4,
 "nbformat_minor": 5
}
