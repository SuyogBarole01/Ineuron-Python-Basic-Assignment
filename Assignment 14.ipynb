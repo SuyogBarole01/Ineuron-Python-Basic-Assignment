{
 "cells": [
  {
   "cell_type": "code",
   "execution_count": null,
   "id": "25cd825a",
   "metadata": {},
   "outputs": [],
   "source": [
    "Ans 1.\n",
    "RGBA is a four-channel format containing data for Red, Green, Blue, and an Alpha value. Where Alpha Represents the Opacity"
   ]
  },
  {
   "cell_type": "code",
   "execution_count": null,
   "id": "973c8b3a",
   "metadata": {},
   "outputs": [],
   "source": [
    "Ans 2.\n",
    "ImageColor.getcolor() gives rgba value of any image"
   ]
  },
  {
   "cell_type": "code",
   "execution_count": null,
   "id": "8a3acca6",
   "metadata": {},
   "outputs": [],
   "source": [
    "Ans 3.\n",
    "A box tuple is a tuple value of four integers: the left-edge x-coordinate, the top-edge y-coordinate,the width, and \n",
    "the height, respectively."
   ]
  },
  {
   "cell_type": "code",
   "execution_count": 5,
   "id": "6dbd18a4",
   "metadata": {},
   "outputs": [
    {
     "name": "stdout",
     "output_type": "stream",
     "text": [
      "Width, Height -> (1200, 675)\n",
      "Width, Height -> 1200,675\n",
      "Width, Height -> 1200,675\n"
     ]
    }
   ],
   "source": [
    "#Ans 4.\n",
    "\n",
    "#Example Program\n",
    "from PIL import Image\n",
    "pic = Image.open('Pic.jpg')\n",
    "print(f'Width, Height -> {pic.size}') # Approach 1\n",
    "print(f'Width, Height -> {pic.width},{pic.height}') # Approach 2\n",
    "width,height = pic.size\n",
    "print(f'Width, Height -> {width},{height}') # Approach 3"
   ]
  },
  {
   "cell_type": "code",
   "execution_count": 6,
   "id": "bc89443b",
   "metadata": {},
   "outputs": [],
   "source": [
    "#Ans 5.\n",
    "\n",
    "from PIL import Image\n",
    "img = Image.open('Pic.jpg')\n",
    "new_img = img.crop((0,50,50,50))"
   ]
  },
  {
   "cell_type": "code",
   "execution_count": 7,
   "id": "d3e2f6c6",
   "metadata": {},
   "outputs": [],
   "source": [
    "#Ans 6.\n",
    "\n",
    "#Example Program\n",
    "from PIL import Image\n",
    "pic = Image.open('pic.jpg')\n",
    "pic.save('pic2.jpg')"
   ]
  },
  {
   "cell_type": "code",
   "execution_count": null,
   "id": "dab59eca",
   "metadata": {},
   "outputs": [],
   "source": [
    "Ans 7.\n",
    "Pillows ImageDraw module contains Shape drawing methods"
   ]
  },
  {
   "cell_type": "code",
   "execution_count": null,
   "id": "062916d9",
   "metadata": {},
   "outputs": [],
   "source": [
    "Ans 8.\n",
    "ImageDraw objects have shape-drawing methods such as point(), line(), or rectangle().\n",
    "They are returned by passing the Image object to the ImageDraw.Draw() function."
   ]
  }
 ],
 "metadata": {
  "kernelspec": {
   "display_name": "Python 3 (ipykernel)",
   "language": "python",
   "name": "python3"
  },
  "language_info": {
   "codemirror_mode": {
    "name": "ipython",
    "version": 3
   },
   "file_extension": ".py",
   "mimetype": "text/x-python",
   "name": "python",
   "nbconvert_exporter": "python",
   "pygments_lexer": "ipython3",
   "version": "3.10.9"
  }
 },
 "nbformat": 4,
 "nbformat_minor": 5
}
