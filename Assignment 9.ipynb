{
 "cells": [
  {
   "cell_type": "code",
   "execution_count": null,
   "id": "9d75930a",
   "metadata": {},
   "outputs": [],
   "source": [
    "Ans 1.\n",
    "The relative path is the path to some file with respect to your current working directory (PWD). \n",
    "For example: if Absolute path to a file called test.txt is: C:/users/admin/docs/test.txt \n",
    "If my PWD is C:/users/admin/ , then the relative path to stuff.txt would be: docs/test.txt \n",
    "Note: PWD + relative path = absolute path"
   ]
  },
  {
   "cell_type": "code",
   "execution_count": null,
   "id": "9fa42a94",
   "metadata": {},
   "outputs": [],
   "source": [
    "Ans 2.\n",
    "In Linux based systems the absolute path starts with /. Where as in Windows based systems absolute path starts with C:"
   ]
  },
  {
   "cell_type": "code",
   "execution_count": null,
   "id": "291ac827",
   "metadata": {},
   "outputs": [],
   "source": [
    "Ans 3.\n",
    "os.getcwd() method tells us the location of current working directory (CWD). Whereas os.chdir() method in \n",
    "Python used to change the current working directory to specified path. These functions are similar to linux \n",
    "commands pwd and cd"
   ]
  },
  {
   "cell_type": "code",
   "execution_count": 3,
   "id": "99904ef3",
   "metadata": {},
   "outputs": [
    {
     "name": "stdout",
     "output_type": "stream",
     "text": [
      "C:\\Users\\prakh\\Documents\n",
      "C:\\Users\\prakh\\Documents\n"
     ]
    }
   ],
   "source": [
    "import os\n",
    "print(os.getcwd()) # Prints the current Working Directory\n",
    "path = r'C:\\Users\\prakh\\Documents'\n",
    "os.chdir(path)\n",
    "print(os.getcwd())"
   ]
  },
  {
   "cell_type": "code",
   "execution_count": null,
   "id": "d394525c",
   "metadata": {},
   "outputs": [],
   "source": [
    "Ans 4.\n",
    "Represents the Current Directory Whereas .. Represents the Parent Directory of the Current Directory"
   ]
  },
  {
   "cell_type": "code",
   "execution_count": null,
   "id": "563e6405",
   "metadata": {},
   "outputs": [],
   "source": [
    "Ans 5.\n",
    "For C:\\bacon\\eggs\\spam.txt\n",
    "\n",
    "The dir name is C:\\bacon\\eggs\n",
    "\n",
    "The Base name is spam.txt"
   ]
  },
  {
   "cell_type": "code",
   "execution_count": null,
   "id": "ea48b5e2",
   "metadata": {},
   "outputs": [],
   "source": [
    "Ans 6.\n",
    "The string 'r' for read mode, 'w' for write mode, and 'a' for append mode"
   ]
  },
  {
   "cell_type": "code",
   "execution_count": null,
   "id": "d974eec6",
   "metadata": {},
   "outputs": [],
   "source": [
    "Ans 7.\n",
    "Using this mode will overwrite any existing content in a file. If the given file does not exist, a new one will be created."
   ]
  },
  {
   "cell_type": "code",
   "execution_count": null,
   "id": "b41a620e",
   "metadata": {},
   "outputs": [],
   "source": [
    "Ans 8.\n",
    "The main difference is that read() will read the whole file at once and then print out the first characters that \n",
    "take up as many bytes as you specify in the parenthesis\n",
    "\n",
    "Whereas the readline() that will read and print out only the first characters that take up as many bytes as you \n",
    "specify in the parenthesis. You may want to use readline() when you're reading files that are too big for your RAM. \n",
    "The read() would treat each character in the file separately, meaning that the iteration would happen for every character. \n",
    "The readline() function, on the other hand, only reads a single line of the file. This means that if the first line of \n",
    "the file were three lines long, the readline() function would only parse (or iterate/operate) on the first line of the file."
   ]
  },
  {
   "cell_type": "code",
   "execution_count": null,
   "id": "9cc2eb91",
   "metadata": {},
   "outputs": [],
   "source": [
    "Ans 9.\n",
    "It contains key and values it represents dictionary."
   ]
  }
 ],
 "metadata": {
  "kernelspec": {
   "display_name": "Python 3 (ipykernel)",
   "language": "python",
   "name": "python3"
  },
  "language_info": {
   "codemirror_mode": {
    "name": "ipython",
    "version": 3
   },
   "file_extension": ".py",
   "mimetype": "text/x-python",
   "name": "python",
   "nbconvert_exporter": "python",
   "pygments_lexer": "ipython3",
   "version": "3.10.9"
  }
 },
 "nbformat": 4,
 "nbformat_minor": 5
}
