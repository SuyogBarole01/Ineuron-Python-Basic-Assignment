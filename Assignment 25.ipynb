{
 "cells": [
  {
   "cell_type": "code",
   "execution_count": null,
   "id": "bfd66567",
   "metadata": {},
   "outputs": [],
   "source": [
    "Ans 1.\n",
    "Enclosing a list comprehension in square brackets returns a list.but where as enclosing a list comprehension in \n",
    "parentheses returns a generator object"
   ]
  },
  {
   "cell_type": "code",
   "execution_count": 1,
   "id": "a2581fc3",
   "metadata": {},
   "outputs": [
    {
     "name": "stdout",
     "output_type": "stream",
     "text": [
      "[0, 1, 2, 3, 4, 5, 6, 7, 8, 9] <class 'list'>\n",
      "<generator object <genexpr> at 0x0000017C601F9380> <class 'generator'>\n"
     ]
    }
   ],
   "source": [
    "l = [ele for ele in range(10)]\n",
    "print(l, type(l))\n",
    "g = (ele for ele in range(10))\n",
    "print(g, type(g))"
   ]
  },
  {
   "cell_type": "code",
   "execution_count": null,
   "id": "a589191b",
   "metadata": {},
   "outputs": [],
   "source": [
    "Ans 2.\n",
    "An iterator is an object which contains a countable number of values and it is used to iterate over iterable objects like \n",
    "list, tuples, sets, etc. Iterators are implemented using a class. It follows lazy evaluation where the evaluation of the \n",
    "expression will be on hold and stored in the memory until the item is called specifically which helps us to avoid repeated \n",
    "evaluation. As lazy evaluation is implemented, it requires only 1 memory location to process the value and when we are using \n",
    "a large dataset then, wastage of RAM space will be reduced the need to load the entire dataset at the same time will not be \n",
    "there.For an iterator: iter() keyword is used to create an iterator containing an iterable object.next() keyword is used to \n",
    "    call the next element in the iterable object.\n",
    "\n",
    "Similarly Generators are an another way of creating iterators in a simple way where it uses the keyword yield statement \n",
    "instead of return statement in a defined function.Generators are implemented using a function. Just as iterators, generators \n",
    "also follow lazy evaluation. Here, the yield function returns the data without affecting or exiting the function. It will \n",
    "return a sequence of data in an iterable format where we need to iterate over the sequence to use the data as they won’t \n",
    "store the entire sequence in the memory."
   ]
  },
  {
   "cell_type": "code",
   "execution_count": 2,
   "id": "cff1de6b",
   "metadata": {},
   "outputs": [
    {
     "name": "stdout",
     "output_type": "stream",
     "text": [
      "<class 'list_iterator'>\n",
      "iNeuron\n",
      "Full\n",
      "Stack\n",
      "Data Science\n",
      "<list_iterator object at 0x0000017C5FE64790>\n",
      "0\n",
      "1\n",
      "8\n",
      "27\n",
      "64\n"
     ]
    }
   ],
   "source": [
    "# Example of iterartor\n",
    "iter_str = iter(['iNeuron','Full','Stack','Data Science'])\n",
    "print(type(iter_str))\n",
    "print(next(iter_str))\n",
    "print(next(iter_str))\n",
    "print(next(iter_str))\n",
    "print(next(iter_str))\n",
    "print(iter_str) # After the iterable object is completed, to use them again we have reassign them to the same object.\n",
    "\n",
    "# Example of Generator\n",
    "def cube_numbers(in_num):\n",
    "    for ele in range(in_num+1):\n",
    "        yield ele**3\n",
    "\n",
    "out_num = cube_numbers(4)\n",
    "print(next(out_num))\n",
    "print(next(out_num))\n",
    "print(next(out_num))\n",
    "print(next(out_num))\n",
    "print(next(out_num))"
   ]
  },
  {
   "cell_type": "code",
   "execution_count": null,
   "id": "55c0c24b",
   "metadata": {},
   "outputs": [],
   "source": [
    "Ans 3.\n",
    "A generator function uses a yield statement instead of a return statement. A generator function will always return a \n",
    "iterable object called generator. where as a normal function can return a string/list/tuple/dict/NoneType ... etc"
   ]
  },
  {
   "cell_type": "code",
   "execution_count": null,
   "id": "dc4dd8a9",
   "metadata": {},
   "outputs": [],
   "source": [
    "Ans 4.\n",
    "The yield statement suspends function’s execution and sends a value back to the caller, but retains enough state to enable \n",
    "function to resume where it is left off. When resumed, the function continues execution immediately after the last yield run. \n",
    "This allows its code to produce a series of values over time, rather than computing them at once and sending them back like a \n",
    "list."
   ]
  },
  {
   "cell_type": "code",
   "execution_count": null,
   "id": "2a81663a",
   "metadata": {},
   "outputs": [],
   "source": [
    "Ans 5.\n",
    "The main differences between map calls and list comprehensiosn are:\n",
    "\n",
    "1.List comprehension is more concise and easier to read as compared to map.\n",
    "2.List comprehension allows filtering. In map, we have no such facility. For example, to print all odd numbers in range of 50, we can write [n for n in range(50) if n%2 != 0]. There is no alternate for it in map\n",
    "3.List comprehension are used when a list of results is required as final output.but map only returns a map object. it needs to be explicitly coverted to desired datatype.\n",
    "4.List comprehension is faster than map when we need to evaluate expressions that are too long or complicated to express\n",
    "5.Map is faster in case of calling an already defined function on a set of values."
   ]
  }
 ],
 "metadata": {
  "kernelspec": {
   "display_name": "Python 3 (ipykernel)",
   "language": "python",
   "name": "python3"
  },
  "language_info": {
   "codemirror_mode": {
    "name": "ipython",
    "version": 3
   },
   "file_extension": ".py",
   "mimetype": "text/x-python",
   "name": "python",
   "nbconvert_exporter": "python",
   "pygments_lexer": "ipython3",
   "version": "3.10.9"
  }
 },
 "nbformat": 4,
 "nbformat_minor": 5
}
