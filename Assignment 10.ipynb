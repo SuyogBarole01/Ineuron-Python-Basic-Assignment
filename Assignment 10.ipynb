{
 "cells": [
  {
   "cell_type": "code",
   "execution_count": null,
   "id": "3d4878cc",
   "metadata": {},
   "outputs": [],
   "source": [
    "Ans 1.\n",
    "shutil.copy() method is used to copy the contents of a file from one file to another file/folder, \n",
    "it primary takes two arguments src,dest, src represents the file to be copied where as destination refers to the \n",
    "file/folder to where the src data should be copied, if dest is a folder name the src with exact name will be copied \n",
    "to the dest folder, if its a file then the contents of src will be copied to dest where dest retains it name.\n",
    "\n",
    "shutil.copytree() function is used to copy the entire contents of a folder to other folder. it also takes two arguments \n",
    "src & dest, it copies all the content recursively and stores it in dest. the important catch here is dest must not exist \n",
    "prior to this and it will be created during the copy operation. Permissions and times of directories are copied \n",
    "with shutil.copystat() and individual files are copied using shutil.copy2() by default which can be modified using \n",
    "copy_function attribute."
   ]
  },
  {
   "cell_type": "code",
   "execution_count": null,
   "id": "1426412d",
   "metadata": {},
   "outputs": [],
   "source": [
    "Ans 2.\n",
    "shutil.copy() method is used to copy the contents of a file from one file to another file/folder, it primary \n",
    "takes two arguments src,dest, src represents the file to be copied where as destination refers to the file/folder \n",
    "to where the src data should be copied, if dest is a folder name the src with exact name will be copied to the dest \n",
    "folder, if its a file then the contents of src will be copied to dest where dest retains it name.\n",
    "\n",
    "shutil.copytree() function is used to copy the entire contents of a folder to other folder. it also takes two \n",
    "arguments src & dest, it copies all the content recursively and stores it in dest. the important catch here is \n",
    "dest must not exist prior to this and it will be created during the copy operation. Permissions and times of \n",
    "directories are copied with shutil.copystat() and individual files are copied using shutil.copy2() by default \n",
    "which can be modified using copy_function attribute."
   ]
  },
  {
   "cell_type": "code",
   "execution_count": null,
   "id": "1692df1b",
   "metadata": {},
   "outputs": [],
   "source": [
    "Ans 3.\n",
    "Shutil module provides a funciton called as shutil.rmtree() which deletes a directory and all its contents. The other \n",
    "functions with similar functionality are os.remove() -> removes a file, os.rmdir() removes a empty directory. \n",
    "The problem with these functions is once a file is deleted. it will be lost permanently, if a file is deleted accidentally \n",
    "using these methods there is no way we can recover the deleted file\n",
    "\n",
    "Where as send2trash module provides a function called send2trash.send2trash() to delete a file/directory. these \n",
    "methods moves the files/directories to trash folder instead of permanently deleting them. hence if a file/folder is \n",
    "deleted accidentally it can be still recovered from trash folder, if is deleted using the send2trash.send2trash() function. \n",
    "send2trash is not included with python standard libary like os & shutil modules. it needs to be installed explicitly \n",
    "using the command !pip install send2trash"
   ]
  },
  {
   "cell_type": "code",
   "execution_count": null,
   "id": "c5849b34",
   "metadata": {},
   "outputs": [],
   "source": [
    "Ans 4.\n",
    "ZipFile Module provides a method called as zipfile.ZipFile() to read and write to zipFiles. it takes arugments \n",
    "like filename and mode etc zipfile.ZipFile('filename', mode = 'r')"
   ]
  },
  {
   "cell_type": "code",
   "execution_count": 1,
   "id": "36d1d341",
   "metadata": {},
   "outputs": [],
   "source": [
    "# Ans 5.\n",
    "\n",
    "import os\n",
    "import shutil\n",
    "\n",
    "def search_and_copy(source,destination,extensions):\n",
    "    source = os.path.abspath(source)\n",
    "    destination = os.path.abspath(destination)\n",
    "    for foldername, subfolder, filenames in os.walk(source):\n",
    "        print(f'Folder Name ➞ {foldername}',end='\\n\\n')\n",
    "        print(f'Sub Folders ➞ {subfolder}',end='\\n\\n')\n",
    "        print(f'Files ➞ {filenames}',end='\\n\\n')\n",
    "        for filename in filenames:\n",
    "            fileName,extension = os.path.splitext(filename)\n",
    "            if extension in extensions:\n",
    "                targetFile = foldername+os.path.sep+fileName+extension\n",
    "                shutil.copy(targetFile, destination)\n",
    "        print(f'Files copied successfully from {source} to {destination}')\n",
    "    \n",
    "extensions = ['.pdf','.jpg','.ipynb']\n",
    "source = 'Dummy Source'\n",
    "destination = 'Dummy Destination'\n",
    "search_and_copy(source, destination, extensions)"
   ]
  },
  {
   "cell_type": "code",
   "execution_count": null,
   "id": "38f0bc87",
   "metadata": {},
   "outputs": [],
   "source": []
  }
 ],
 "metadata": {
  "kernelspec": {
   "display_name": "Python 3 (ipykernel)",
   "language": "python",
   "name": "python3"
  },
  "language_info": {
   "codemirror_mode": {
    "name": "ipython",
    "version": 3
   },
   "file_extension": ".py",
   "mimetype": "text/x-python",
   "name": "python",
   "nbconvert_exporter": "python",
   "pygments_lexer": "ipython3",
   "version": "3.10.9"
  }
 },
 "nbformat": 4,
 "nbformat_minor": 5
}
