{
 "cells": [
  {
   "cell_type": "code",
   "execution_count": null,
   "id": "b1dce16c",
   "metadata": {},
   "outputs": [],
   "source": [
    "Ans 1.\n",
    "The re. compile() function returns Regex objects."
   ]
  },
  {
   "cell_type": "code",
   "execution_count": null,
   "id": "fd36ef8b",
   "metadata": {},
   "outputs": [],
   "source": [
    "Ans 2.\n",
    "Regular expressions use the backslash character ('') to indicate special forms (Metacharacters) or to allow special \n",
    "characters (speical sequences) to be used without invoking their special meaning. This collides with Python’s usage of \n",
    "the same character for the same purpose in string literals. Hence, Raw strings are used (e.g. r\"\\n\") so that backslashes \n",
    "do not have to be escaped."
   ]
  },
  {
   "cell_type": "code",
   "execution_count": null,
   "id": "201bfb90",
   "metadata": {},
   "outputs": [],
   "source": [
    "Ans 3.\n",
    "The return value of re.search(pattern,string) method is a match object if the pattern is observed in the string else \n",
    "it returns a None"
   ]
  },
  {
   "cell_type": "code",
   "execution_count": null,
   "id": "b3549695",
   "metadata": {},
   "outputs": [],
   "source": [
    "Ans 4.\n",
    "For Matched items group() methods returns actual strings that match the pattern."
   ]
  },
  {
   "cell_type": "code",
   "execution_count": null,
   "id": "0378d0d6",
   "metadata": {},
   "outputs": [],
   "source": [
    "Ans 5.\n",
    "In the Regex r'(\\d\\d\\d)-(\\d\\d\\d-\\d\\d\\d\\d)' the zero group covers the entire pattern match where as the first group \n",
    "cover (\\d\\d\\d) and the second group cover (\\d\\d\\d-\\d\\d\\d\\d)"
   ]
  },
  {
   "cell_type": "code",
   "execution_count": null,
   "id": "a6833789",
   "metadata": {},
   "outputs": [],
   "source": [
    "Ans 6.\n",
    "The . ( ) escape characters in the raw string passed to re.compile() will match actual parenthesis characters."
   ]
  },
  {
   "cell_type": "code",
   "execution_count": null,
   "id": "2dea4741",
   "metadata": {},
   "outputs": [],
   "source": [
    "Ans 7.\n",
    "If the regex pattern has no groups, a list of strings matched is returned. if the regex pattern has groups, a list of \n",
    "tuple of strings is returned."
   ]
  },
  {
   "cell_type": "code",
   "execution_count": null,
   "id": "321e7c73",
   "metadata": {},
   "outputs": [],
   "source": [
    "Ans 8.\n",
    "In Standard Expressions | means OR operator."
   ]
  },
  {
   "cell_type": "code",
   "execution_count": null,
   "id": "c94016d4",
   "metadata": {},
   "outputs": [],
   "source": [
    "Ans 9.\n",
    "In regular Expressions, ? characters represents zero or one match of the preceeding group."
   ]
  },
  {
   "cell_type": "code",
   "execution_count": null,
   "id": "1786babe",
   "metadata": {},
   "outputs": [],
   "source": [
    "Ans 10.\n",
    "In Regular Expressions, * Represents Zero ore more occurances of the preceeding group, whereas + represents one or \n",
    "more occurances of the preceeding group."
   ]
  },
  {
   "cell_type": "code",
   "execution_count": null,
   "id": "548f0110",
   "metadata": {},
   "outputs": [],
   "source": [
    "Ans 11.\n",
    "{4} means that its preceeding group should repeat 4 times. where as {4,5} means that its preceeding group should \n",
    "repeat mininum 4 times and maximum 5 times inclusively"
   ]
  },
  {
   "cell_type": "code",
   "execution_count": null,
   "id": "0c72348c",
   "metadata": {},
   "outputs": [],
   "source": [
    "Ans 12.\n",
    " \\d, \\w and \\s are special sequences in regular expresssions in python:\n",
    "\n",
    "1. \\w – Matches a word character equivalent to [a-zA-Z0-9_]\n",
    "2. \\d – Matches digit character equivalent to [0-9]\n",
    "3. \\s – Matches whitespace character (space, tab, newline, etc.)"
   ]
  },
  {
   "cell_type": "code",
   "execution_count": null,
   "id": "07f1b301",
   "metadata": {},
   "outputs": [],
   "source": [
    "Ans 13.\n",
    "\\D, \\W and \\S are special sequences in regular expresssions in python:\n",
    "\n",
    "1. \\W – Matches any non-alphanumeric character equivalent to [^a-zA-Z0-9_]\n",
    "2. \\D – Matches any non-digit character, this is equivalent to the set class [^0-9]\n",
    "3. \\S – Matches any non-whitespace character"
   ]
  },
  {
   "cell_type": "code",
   "execution_count": null,
   "id": "c5efca7c",
   "metadata": {},
   "outputs": [],
   "source": [
    "Ans 14.\n",
    "* is a Greedy mode, which returns the longest string that meets the condition. Whereas .*? is a non greedy mode which \n",
    "returns the shortest string that meets the condition."
   ]
  },
  {
   "cell_type": "code",
   "execution_count": null,
   "id": "4a40536a",
   "metadata": {},
   "outputs": [],
   "source": [
    "Ans 15.\n",
    "The Synatax is Either [a-z0-9] or [0-9a-z]"
   ]
  },
  {
   "cell_type": "code",
   "execution_count": null,
   "id": "c4f27940",
   "metadata": {},
   "outputs": [],
   "source": [
    "Ans 16.\n",
    "We can pass re.IGNORECASE as a flag to make a noraml expression case insensitive"
   ]
  },
  {
   "cell_type": "code",
   "execution_count": null,
   "id": "e3854246",
   "metadata": {},
   "outputs": [],
   "source": [
    "Ans 17.\n",
    " . character matches everything in input except newline character .. By passing re.DOTALL as a flag to re.compile(), \n",
    "    you can make the dot character match all characters, including the newline character."
   ]
  },
  {
   "cell_type": "code",
   "execution_count": null,
   "id": "8a4e1dc7",
   "metadata": {},
   "outputs": [],
   "source": [
    "Ans 18.\n",
    "The Ouput will be 'X drummers, X pipers, five rings, X hen'"
   ]
  },
  {
   "cell_type": "code",
   "execution_count": null,
   "id": "3328cd21",
   "metadata": {},
   "outputs": [],
   "source": [
    "Ans 19.\n",
    "re.VERBOSE will allow to add whitespace and comments to string passed to re.compile()."
   ]
  },
  {
   "cell_type": "code",
   "execution_count": null,
   "id": "17e61d77",
   "metadata": {},
   "outputs": [],
   "source": [
    "Ans 20.\n",
    "'42','1,234', '6,368,745'but not the following: '12,34,567' (which has only two digits between the commas) '1234' \n",
    "    (which lacks commas)"
   ]
  },
  {
   "cell_type": "code",
   "execution_count": null,
   "id": "86a0e013",
   "metadata": {},
   "outputs": [],
   "source": [
    "Ans 21.\n",
    "pattern = r'[A-Z]{1}[a-z]*\\sWatanabe'"
   ]
  },
  {
   "cell_type": "code",
   "execution_count": null,
   "id": "f4089109",
   "metadata": {},
   "outputs": [],
   "source": [
    "Ans 22.\n",
    "pattern = r'(Alice|Bob|Carol)\\s(eats|pets|throws)\\s(apples|cats|baseballs).'"
   ]
  }
 ],
 "metadata": {
  "kernelspec": {
   "display_name": "Python 3 (ipykernel)",
   "language": "python",
   "name": "python3"
  },
  "language_info": {
   "codemirror_mode": {
    "name": "ipython",
    "version": 3
   },
   "file_extension": ".py",
   "mimetype": "text/x-python",
   "name": "python",
   "nbconvert_exporter": "python",
   "pygments_lexer": "ipython3",
   "version": "3.10.9"
  }
 },
 "nbformat": 4,
 "nbformat_minor": 5
}
