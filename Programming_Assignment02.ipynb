{
 "cells": [
  {
   "cell_type": "code",
   "execution_count": null,
   "id": "c59a9d42",
   "metadata": {},
   "outputs": [],
   "source": [
    "1.Write a Python program to convert Kilometers to Miles ?"
   ]
  },
  {
   "cell_type": "code",
   "execution_count": 1,
   "id": "a282f5ef",
   "metadata": {},
   "outputs": [
    {
     "name": "stdout",
     "output_type": "stream",
     "text": [
      "Enter no of kilometers : 100\n",
      "100.0 km is Equal to 62.1 miles\n"
     ]
    }
   ],
   "source": [
    "def kmToMiles():\n",
    "    kiloMeters = float(input(\"Enter no of kilometers : \"))\n",
    "    print(\"{} km is Equal to {} miles\".format(kiloMeters,kiloMeters*0.621))\n",
    "\n",
    "kmToMiles()"
   ]
  },
  {
   "cell_type": "code",
   "execution_count": null,
   "id": "7efc6614",
   "metadata": {},
   "outputs": [],
   "source": [
    "2.Write a Python program to convert Celsius to Farenheit ?"
   ]
  },
  {
   "cell_type": "code",
   "execution_count": 2,
   "id": "a35d5ce1",
   "metadata": {},
   "outputs": [
    {
     "name": "stdout",
     "output_type": "stream",
     "text": [
      "Enter temperature in celsius : 33\n",
      "33° Celsius is Equal to 91.4° Farenheit\n"
     ]
    }
   ],
   "source": [
    "def celToFarh():\n",
    "    celsius = int(input(\"Enter temperature in celsius : \"))\n",
    "    Farenheit = (celsius*(9/5))+32\n",
    "    print(\"{}° Celsius is Equal to {}° Farenheit\".format(celsius,Farenheit))\n",
    "    \n",
    "celToFarh()"
   ]
  },
  {
   "cell_type": "code",
   "execution_count": null,
   "id": "6f7156d7",
   "metadata": {},
   "outputs": [],
   "source": [
    "3.Write a Python program to display calender ?"
   ]
  },
  {
   "cell_type": "code",
   "execution_count": 3,
   "id": "c88fdf57",
   "metadata": {},
   "outputs": [
    {
     "name": "stdout",
     "output_type": "stream",
     "text": [
      "Enter calender year: 2013\n",
      "                                  2013\n",
      "\n",
      "      January                   February                   March\n",
      "Mo Tu We Th Fr Sa Su      Mo Tu We Th Fr Sa Su      Mo Tu We Th Fr Sa Su\n",
      "    1  2  3  4  5  6                   1  2  3                   1  2  3\n",
      " 7  8  9 10 11 12 13       4  5  6  7  8  9 10       4  5  6  7  8  9 10\n",
      "14 15 16 17 18 19 20      11 12 13 14 15 16 17      11 12 13 14 15 16 17\n",
      "21 22 23 24 25 26 27      18 19 20 21 22 23 24      18 19 20 21 22 23 24\n",
      "28 29 30 31               25 26 27 28               25 26 27 28 29 30 31\n",
      "\n",
      "       April                      May                       June\n",
      "Mo Tu We Th Fr Sa Su      Mo Tu We Th Fr Sa Su      Mo Tu We Th Fr Sa Su\n",
      " 1  2  3  4  5  6  7             1  2  3  4  5                      1  2\n",
      " 8  9 10 11 12 13 14       6  7  8  9 10 11 12       3  4  5  6  7  8  9\n",
      "15 16 17 18 19 20 21      13 14 15 16 17 18 19      10 11 12 13 14 15 16\n",
      "22 23 24 25 26 27 28      20 21 22 23 24 25 26      17 18 19 20 21 22 23\n",
      "29 30                     27 28 29 30 31            24 25 26 27 28 29 30\n",
      "\n",
      "        July                     August                  September\n",
      "Mo Tu We Th Fr Sa Su      Mo Tu We Th Fr Sa Su      Mo Tu We Th Fr Sa Su\n",
      " 1  2  3  4  5  6  7                1  2  3  4                         1\n",
      " 8  9 10 11 12 13 14       5  6  7  8  9 10 11       2  3  4  5  6  7  8\n",
      "15 16 17 18 19 20 21      12 13 14 15 16 17 18       9 10 11 12 13 14 15\n",
      "22 23 24 25 26 27 28      19 20 21 22 23 24 25      16 17 18 19 20 21 22\n",
      "29 30 31                  26 27 28 29 30 31         23 24 25 26 27 28 29\n",
      "                                                    30\n",
      "\n",
      "      October                   November                  December\n",
      "Mo Tu We Th Fr Sa Su      Mo Tu We Th Fr Sa Su      Mo Tu We Th Fr Sa Su\n",
      "    1  2  3  4  5  6                   1  2  3                         1\n",
      " 7  8  9 10 11 12 13       4  5  6  7  8  9 10       2  3  4  5  6  7  8\n",
      "14 15 16 17 18 19 20      11 12 13 14 15 16 17       9 10 11 12 13 14 15\n",
      "21 22 23 24 25 26 27      18 19 20 21 22 23 24      16 17 18 19 20 21 22\n",
      "28 29 30 31               25 26 27 28 29 30         23 24 25 26 27 28 29\n",
      "                                                    30 31\n",
      "\n"
     ]
    }
   ],
   "source": [
    "import calendar\n",
    "\n",
    "def showCalender():\n",
    "    year = int(input(\"Enter calender year: \"))\n",
    "    print(calendar.calendar(year))\n",
    "    \n",
    "showCalender()"
   ]
  },
  {
   "cell_type": "code",
   "execution_count": null,
   "id": "b300bb50",
   "metadata": {},
   "outputs": [],
   "source": [
    "4.Write a Python program to solve quadartic equation ?"
   ]
  },
  {
   "cell_type": "code",
   "execution_count": 4,
   "id": "e2fda18a",
   "metadata": {},
   "outputs": [
    {
     "name": "stdout",
     "output_type": "stream",
     "text": [
      "Enter a value: 12\n",
      "Enter b value: 33\n",
      "Enter c value: 44\n",
      "Roots are Imaginary (-1.375-1.3326821326432896j) (-1.375+1.3326821326432896j)\n"
     ]
    }
   ],
   "source": [
    "import cmath\n",
    "import math\n",
    "\n",
    "def quadarticEquationRoots(a,b,c):\n",
    "    \n",
    "    discriminant = b*b-4*a*c\n",
    "    \n",
    "    if discriminant == 0:\n",
    "        r1 = -b/2*a\n",
    "        r2 = -b/2*a\n",
    "        print(\"Roots are Real\",r1,r2)\n",
    "    elif discriminant > 0:\n",
    "        r1 = (-b-math.sqrt(discriminant))/(2 * a)\n",
    "        r2 = (-b+math.sqrt(discriminant))/(2 * a)\n",
    "        print(\"Roots are Real and different\",r1,r2)\n",
    "    else:\n",
    "        r1 = (-b-cmath.sqrt(discriminant))/(2 * a)\n",
    "        r2 = (-b+cmath.sqrt(discriminant))/(2 * a)\n",
    "        print(\"Roots are Imaginary\",r1,r2)\n",
    "\n",
    "\n",
    "a = int(input('Enter a value: '))\n",
    "b = int(input('Enter b value: '))\n",
    "c = int(input('Enter c value: '))\n",
    "\n",
    "quadarticEquationRoots(a,b,c)"
   ]
  },
  {
   "cell_type": "code",
   "execution_count": null,
   "id": "4f60a345",
   "metadata": {},
   "outputs": [],
   "source": [
    "5.Write a Python program to swap two variables without temp variable ?"
   ]
  },
  {
   "cell_type": "code",
   "execution_count": 5,
   "id": "867277e5",
   "metadata": {},
   "outputs": [
    {
     "name": "stdout",
     "output_type": "stream",
     "text": [
      "Enter first number: 123\n",
      "Enter second number: 22\n",
      "Before Swapping 123 22\n",
      "before Swapping 22 123\n"
     ]
    }
   ],
   "source": [
    "num_1 = int(input('Enter first number: '))\n",
    "num_2 = int(input('Enter second number: '))\n",
    "\n",
    "\n",
    "def swapNumbers(num_1,num_2):\n",
    "        print('Before Swapping',num_1,num_2)\n",
    "        num_1 = num_1+num_2\n",
    "        num_2 = num_1-num_2\n",
    "        num_1 = num_1-num_2\n",
    "        print('before Swapping',num_1,num_2)\n",
    "\n",
    "swapNumbers(num_1,num_2)"
   ]
  }
 ],
 "metadata": {
  "kernelspec": {
   "display_name": "Python 3 (ipykernel)",
   "language": "python",
   "name": "python3"
  },
  "language_info": {
   "codemirror_mode": {
    "name": "ipython",
    "version": 3
   },
   "file_extension": ".py",
   "mimetype": "text/x-python",
   "name": "python",
   "nbconvert_exporter": "python",
   "pygments_lexer": "ipython3",
   "version": "3.9.12"
  }
 },
 "nbformat": 4,
 "nbformat_minor": 5
}
