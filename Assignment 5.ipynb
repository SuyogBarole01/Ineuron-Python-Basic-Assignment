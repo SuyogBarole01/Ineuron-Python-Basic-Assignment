{
 "cells": [
  {
   "cell_type": "code",
   "execution_count": null,
   "id": "94d424a8",
   "metadata": {},
   "outputs": [],
   "source": [
    "Ans 1.\n",
    "An empty dictionary is often represented by two empty curly brackets d = {} or d = dict()"
   ]
  },
  {
   "cell_type": "code",
   "execution_count": null,
   "id": "0ecde2c7",
   "metadata": {},
   "outputs": [],
   "source": [
    "Ans 2.\n",
    "{'foo':42}"
   ]
  },
  {
   "cell_type": "code",
   "execution_count": null,
   "id": "939e946e",
   "metadata": {},
   "outputs": [],
   "source": [
    "Ans 3.\n",
    "Dictionaries are represented by {} where as listed are represented by [] The Items stored in a dictionary are Unordered , \n",
    "while the items in a list are ordered"
   ]
  },
  {
   "cell_type": "code",
   "execution_count": null,
   "id": "2302c3f8",
   "metadata": {},
   "outputs": [],
   "source": [
    "Ans 4.\n",
    "We will get KeyError: 'foo'."
   ]
  },
  {
   "cell_type": "code",
   "execution_count": 1,
   "id": "cb856999",
   "metadata": {},
   "outputs": [
    {
     "ename": "KeyError",
     "evalue": "'foo'",
     "output_type": "error",
     "traceback": [
      "\u001b[1;31m---------------------------------------------------------------------------\u001b[0m",
      "\u001b[1;31mKeyError\u001b[0m                                  Traceback (most recent call last)",
      "Cell \u001b[1;32mIn[1], line 2\u001b[0m\n\u001b[0;32m      1\u001b[0m spam \u001b[38;5;241m=\u001b[39m {\u001b[38;5;124m'\u001b[39m\u001b[38;5;124mbar\u001b[39m\u001b[38;5;124m'\u001b[39m:\u001b[38;5;241m100\u001b[39m}\n\u001b[1;32m----> 2\u001b[0m \u001b[38;5;28mprint\u001b[39m(\u001b[43mspam\u001b[49m\u001b[43m[\u001b[49m\u001b[38;5;124;43m'\u001b[39;49m\u001b[38;5;124;43mfoo\u001b[39;49m\u001b[38;5;124;43m'\u001b[39;49m\u001b[43m]\u001b[49m)\n",
      "\u001b[1;31mKeyError\u001b[0m: 'foo'"
     ]
    }
   ],
   "source": [
    "spam = {'bar':100}\n",
    "print(spam['foo'])"
   ]
  },
  {
   "cell_type": "code",
   "execution_count": null,
   "id": "22078565",
   "metadata": {},
   "outputs": [],
   "source": [
    "Ans 5.\n",
    "There is no difference . The operator checks whether a value exits as a key in the dictionary or not."
   ]
  },
  {
   "cell_type": "code",
   "execution_count": null,
   "id": "099a34da",
   "metadata": {},
   "outputs": [],
   "source": [
    "Ans 6.\n",
    "'cat' in spam checks whether there is a 'cat' key in the dictionary, while 'cat' in spam.values() checks whether \n",
    "there is a value 'cat' for one of the keys in spam."
   ]
  },
  {
   "cell_type": "code",
   "execution_count": null,
   "id": "6f4e8408",
   "metadata": {},
   "outputs": [],
   "source": [
    "Ans 7.\n",
    "spam.setdefault('color','black')"
   ]
  },
  {
   "cell_type": "code",
   "execution_count": null,
   "id": "9f6cb833",
   "metadata": {},
   "outputs": [],
   "source": [
    "Ans 8.\n",
    "We can pretty print a dictionary using three functions:\n",
    "\n",
    "1.by using pprint() function of pprint module\n",
    "  Note: pprint() function doesnot prettify nested dictionaries\n",
    "2.by using dumps() method of json module\n",
    "3.by using dumps() method of yaml module"
   ]
  },
  {
   "cell_type": "code",
   "execution_count": 2,
   "id": "312cd090",
   "metadata": {},
   "outputs": [
    {
     "name": "stdout",
     "output_type": "stream",
     "text": [
      "Printing using print() function\n",
      " [{'Name': 'Dhoni', 'Age': '42', 'Residence': {'Country': 'India', 'City': 'Jharkhand'}}, {'Name': 'Jadeja', 'Age': '35', 'Residence': {'Country': 'India', 'City': 'Rajasthan'}}, {'Name': 'Raina', 'Age': '37', 'Residence': {'Country': 'India', 'City': 'UP'}}, {'Name': 'Virat', 'Age': '35', 'Residence': {'Country': 'India', 'City': 'Delhi'}}, {'Name': 'Rohit', 'Age': '36', 'Residence': {'Country': 'India', 'City': 'Mumbai'}}]\n",
      "....................................................................................................\n",
      "Printing using pprint() funciton\n",
      "[{'Age': '42',\n",
      "  'Name': 'Dhoni',\n",
      "  'Residence': {'City': 'Jharkhand', 'Country': 'India'}},\n",
      " {'Age': '35',\n",
      "  'Name': 'Jadeja',\n",
      "  'Residence': {'City': 'Rajasthan', 'Country': 'India'}},\n",
      " {'Age': '37',\n",
      "  'Name': 'Raina',\n",
      "  'Residence': {'City': 'UP', 'Country': 'India'}},\n",
      " {'Age': '35',\n",
      "  'Name': 'Virat',\n",
      "  'Residence': {'City': 'Delhi', 'Country': 'India'}},\n",
      " {'Age': '36',\n",
      "  'Name': 'Rohit',\n",
      "  'Residence': {'City': 'Mumbai', 'Country': 'India'}}]\n",
      "....................................................................................................\n",
      "Printing using dumps() method\n",
      " [\n",
      "    {\n",
      "        \"Name\": \"Dhoni\",\n",
      "        \"Age\": \"42\",\n",
      "        \"Residence\": {\n",
      "            \"Country\": \"India\",\n",
      "            \"City\": \"Jharkhand\"\n",
      "        }\n",
      "    },\n",
      "    {\n",
      "        \"Name\": \"Jadeja\",\n",
      "        \"Age\": \"35\",\n",
      "        \"Residence\": {\n",
      "            \"Country\": \"India\",\n",
      "            \"City\": \"Rajasthan\"\n",
      "        }\n",
      "    },\n",
      "    {\n",
      "        \"Name\": \"Raina\",\n",
      "        \"Age\": \"37\",\n",
      "        \"Residence\": {\n",
      "            \"Country\": \"India\",\n",
      "            \"City\": \"UP\"\n",
      "        }\n",
      "    },\n",
      "    {\n",
      "        \"Name\": \"Virat\",\n",
      "        \"Age\": \"35\",\n",
      "        \"Residence\": {\n",
      "            \"Country\": \"India\",\n",
      "            \"City\": \"Delhi\"\n",
      "        }\n",
      "    },\n",
      "    {\n",
      "        \"Name\": \"Rohit\",\n",
      "        \"Age\": \"36\",\n",
      "        \"Residence\": {\n",
      "            \"Country\": \"India\",\n",
      "            \"City\": \"Mumbai\"\n",
      "        }\n",
      "    }\n",
      "]\n",
      "..........\n",
      "Printing using dump() method\n",
      " - Age: '42'\n",
      "  Name: Dhoni\n",
      "  Residence:\n",
      "    City: Jharkhand\n",
      "    Country: India\n",
      "- Age: '35'\n",
      "  Name: Jadeja\n",
      "  Residence:\n",
      "    City: Rajasthan\n",
      "    Country: India\n",
      "- Age: '37'\n",
      "  Name: Raina\n",
      "  Residence:\n",
      "    City: UP\n",
      "    Country: India\n",
      "- Age: '35'\n",
      "  Name: Virat\n",
      "  Residence:\n",
      "    City: Delhi\n",
      "    Country: India\n",
      "- Age: '36'\n",
      "  Name: Rohit\n",
      "  Residence:\n",
      "    City: Mumbai\n",
      "    Country: India\n",
      "\n"
     ]
    }
   ],
   "source": [
    "#example\n",
    "\n",
    "ndict = [\n",
    "  {'Name': 'Dhoni', 'Age': '42', 'Residence': {'Country':'India', 'City': 'Jharkhand'}},\n",
    "  {'Name': 'Jadeja', 'Age': '35', 'Residence': {'Country':'India', 'City': 'Rajasthan'}},\n",
    "  {'Name': 'Raina', 'Age': '37', 'Residence': {'Country':'India', 'City': 'UP'}},\n",
    "  {'Name': 'Virat', 'Age': '35', 'Residence': {'Country':'India', 'City': 'Delhi'}},\n",
    "  {'Name': 'Rohit', 'Age': '36', 'Residence': {'Country':'India', 'City': 'Mumbai'}}\n",
    "]\n",
    "\n",
    "print('Printing using print() function\\n',ndict)\n",
    "print('.'*100)\n",
    "import pprint\n",
    "print('Printing using pprint() funciton')\n",
    "pprint.pprint(ndict)\n",
    "print('.'*100)\n",
    "import json\n",
    "dump = json.dumps(ndict, indent=4)\n",
    "print('Printing using dumps() method\\n', dump)\n",
    "print('.'*10)\n",
    "import yaml\n",
    "dump = yaml.dump(ndict)\n",
    "print('Printing using dump() method\\n', dump)"
   ]
  },
  {
   "cell_type": "code",
   "execution_count": null,
   "id": "d6efd607",
   "metadata": {},
   "outputs": [],
   "source": []
  }
 ],
 "metadata": {
  "kernelspec": {
   "display_name": "Python 3 (ipykernel)",
   "language": "python",
   "name": "python3"
  },
  "language_info": {
   "codemirror_mode": {
    "name": "ipython",
    "version": 3
   },
   "file_extension": ".py",
   "mimetype": "text/x-python",
   "name": "python",
   "nbconvert_exporter": "python",
   "pygments_lexer": "ipython3",
   "version": "3.10.9"
  }
 },
 "nbformat": 4,
 "nbformat_minor": 5
}
