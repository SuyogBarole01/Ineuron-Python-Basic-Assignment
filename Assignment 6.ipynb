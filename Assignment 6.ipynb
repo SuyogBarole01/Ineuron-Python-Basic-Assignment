{
 "cells": [
  {
   "cell_type": "code",
   "execution_count": null,
   "id": "5c00cf5b",
   "metadata": {},
   "outputs": [],
   "source": [
    "Ans 1.\n",
    "An escape character is a backslash \\ followed by the character you want to insert. We use them to insert characters that \n",
    "are illegal in a string."
   ]
  },
  {
   "cell_type": "code",
   "execution_count": null,
   "id": "195db829",
   "metadata": {},
   "outputs": [],
   "source": [
    "Ans 2.\n",
    "\\n - New Line & \\t - Tab"
   ]
  },
  {
   "cell_type": "code",
   "execution_count": null,
   "id": "455a4961",
   "metadata": {},
   "outputs": [],
   "source": [
    "Ans 3.\n",
    "To include a backslash characters in a string, you have write double blackslash i.e. \\."
   ]
  },
  {
   "cell_type": "code",
   "execution_count": 1,
   "id": "bb003a57",
   "metadata": {},
   "outputs": [
    {
     "name": "stdout",
     "output_type": "stream",
     "text": [
      "Task's\n"
     ]
    }
   ],
   "source": [
    "\n",
    "s= \"Task\\'s\"\n",
    "print(s)"
   ]
  },
  {
   "cell_type": "code",
   "execution_count": null,
   "id": "78e988a7",
   "metadata": {},
   "outputs": [],
   "source": [
    "Ans 4.\n",
    "We can repressent a string within the single quote character or within the double quote character. \n",
    "Since we have enclosed the \"Howl's Moving Castle\" in double quote. hence the signle quote character is not a problem."
   ]
  },
  {
   "cell_type": "code",
   "execution_count": null,
   "id": "c9e9ef82",
   "metadata": {},
   "outputs": [],
   "source": [
    "Ans 5.\n",
    "We can write end=\"\" in the print statement"
   ]
  },
  {
   "cell_type": "code",
   "execution_count": 2,
   "id": "1dcb622e",
   "metadata": {},
   "outputs": [
    {
     "name": "stdout",
     "output_type": "stream",
     "text": [
      "e\n",
      "Hello\n",
      "Hello\n",
      "lo, world!\n"
     ]
    }
   ],
   "source": [
    "# Ans 6.\n",
    "\n",
    "print('Hello, world!'[1])\n",
    "print('Hello, world!'[0:5])\n",
    "print('Hello, world!'[:5])\n",
    "print('Hello, world!'[3:])"
   ]
  },
  {
   "cell_type": "code",
   "execution_count": 3,
   "id": "82ce8d07",
   "metadata": {},
   "outputs": [
    {
     "name": "stdout",
     "output_type": "stream",
     "text": [
      "HELLO\n",
      "True\n",
      "hello\n"
     ]
    }
   ],
   "source": [
    "# Ans 7.\n",
    "\n",
    "print('Hello'.upper())\n",
    "print('Hello'.upper().isupper())\n",
    "print('Hello'.upper().lower())"
   ]
  },
  {
   "cell_type": "code",
   "execution_count": null,
   "id": "88a9ceea",
   "metadata": {},
   "outputs": [],
   "source": [
    "Ans 8.\n",
    "'Remember, remember, the fifth of July.'.split() - this expression will split the string whereever it encounter with a \n",
    "whitespace. and the output will be ['Remember,', 'remember,', 'the', 'fifth', 'of', 'July.']\n",
    "\n",
    "'-'.join('There can only one.'.split()) - as above it will split based on white space then join the words with hyphen \n",
    "and the otput will be : 'There-can-only-one.'"
   ]
  },
  {
   "cell_type": "code",
   "execution_count": null,
   "id": "cb561b5a",
   "metadata": {},
   "outputs": [],
   "source": [
    "Ans 9.\n",
    "The methods for right-justifying, left-justifying, and centering a string are rjust(), ljust() and center() respectively."
   ]
  },
  {
   "cell_type": "code",
   "execution_count": null,
   "id": "6b46f3d7",
   "metadata": {},
   "outputs": [],
   "source": [
    "Ans 10.\n",
    "Its recommended to use the strip method to remove the white spaces from the start and end."
   ]
  },
  {
   "cell_type": "code",
   "execution_count": 4,
   "id": "08df3bce",
   "metadata": {},
   "outputs": [
    {
     "data": {
      "text/plain": [
       "'satish'"
      ]
     },
     "execution_count": 4,
     "metadata": {},
     "output_type": "execute_result"
    }
   ],
   "source": [
    "s=\"  satish   \"\n",
    "s.strip()"
   ]
  },
  {
   "cell_type": "code",
   "execution_count": null,
   "id": "04fb53e1",
   "metadata": {},
   "outputs": [],
   "source": []
  }
 ],
 "metadata": {
  "kernelspec": {
   "display_name": "Python 3 (ipykernel)",
   "language": "python",
   "name": "python3"
  },
  "language_info": {
   "codemirror_mode": {
    "name": "ipython",
    "version": 3
   },
   "file_extension": ".py",
   "mimetype": "text/x-python",
   "name": "python",
   "nbconvert_exporter": "python",
   "pygments_lexer": "ipython3",
   "version": "3.10.9"
  }
 },
 "nbformat": 4,
 "nbformat_minor": 5
}
