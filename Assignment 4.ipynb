{
 "cells": [
  {
   "cell_type": "code",
   "execution_count": null,
   "id": "9a605171",
   "metadata": {},
   "outputs": [],
   "source": [
    "Ans 1.\n",
    "[] is an empty list. This basically does not contain anything."
   ]
  },
  {
   "cell_type": "code",
   "execution_count": 3,
   "id": "7e6e50fb",
   "metadata": {},
   "outputs": [
    {
     "name": "stdout",
     "output_type": "stream",
     "text": [
      "[2, 4, 'hello', 8, 10]\n"
     ]
    }
   ],
   "source": [
    "# Ans 2.\n",
    "spam= [2,4,6,8,10]\n",
    "spam[2] = 'hello'\n",
    "print(spam)"
   ]
  },
  {
   "cell_type": "code",
   "execution_count": 4,
   "id": "f1095ec4",
   "metadata": {},
   "outputs": [
    {
     "name": "stdout",
     "output_type": "stream",
     "text": [
      "[3]\n"
     ]
    }
   ],
   "source": [
    "# Ans 3.\n",
    "\n",
    "spam = [int(int('3' * 2) / 11)]\n",
    "print(spam)"
   ]
  },
  {
   "cell_type": "code",
   "execution_count": 5,
   "id": "080121e7",
   "metadata": {},
   "outputs": [
    {
     "name": "stdout",
     "output_type": "stream",
     "text": [
      "[3]\n"
     ]
    }
   ],
   "source": [
    "# Ans 4.\n",
    "\n",
    "spam[-1]\n",
    "print(spam)"
   ]
  },
  {
   "cell_type": "code",
   "execution_count": 6,
   "id": "4cfe2e86",
   "metadata": {},
   "outputs": [
    {
     "name": "stdout",
     "output_type": "stream",
     "text": [
      "[3]\n"
     ]
    }
   ],
   "source": [
    "# Ans 5.\n",
    "\n",
    "spam[:2]\n",
    "print(spam)"
   ]
  },
  {
   "cell_type": "code",
   "execution_count": null,
   "id": "fe881128",
   "metadata": {},
   "outputs": [],
   "source": [
    "Ans 6.\n",
    "The value of bacon.index('cat') is 1"
   ]
  },
  {
   "cell_type": "code",
   "execution_count": 7,
   "id": "da0489bb",
   "metadata": {},
   "outputs": [
    {
     "name": "stdout",
     "output_type": "stream",
     "text": [
      "bacon.index('cat') -> 1\n"
     ]
    }
   ],
   "source": [
    "bacon = [3.14, 'cat', 11, 'cat', True]\n",
    "print(\"bacon.index('cat') ->\",bacon.index('cat'))"
   ]
  },
  {
   "cell_type": "code",
   "execution_count": 8,
   "id": "cb23c210",
   "metadata": {},
   "outputs": [
    {
     "name": "stdout",
     "output_type": "stream",
     "text": [
      "Before Append [3.14, 'cat', 11, 'cat', True]\n",
      "After Append [3.14, 'cat', 11, 'cat', True, 99]\n"
     ]
    }
   ],
   "source": [
    "# Ans 7.\n",
    "\n",
    "print(\"Before Append\", bacon)\n",
    "bacon.append(99)\n",
    "print(\"After Append\", bacon)"
   ]
  },
  {
   "cell_type": "code",
   "execution_count": 9,
   "id": "d2117650",
   "metadata": {},
   "outputs": [
    {
     "name": "stdout",
     "output_type": "stream",
     "text": [
      "Before Remove [3.14, 'cat', 11, 'cat', True, 99]\n",
      "After Remove [3.14, 11, 'cat', True, 99]\n"
     ]
    }
   ],
   "source": [
    "# Ans 8.\n",
    "\n",
    "print(\"Before Remove\", bacon)\n",
    "bacon.remove('cat')\n",
    "print(\"After Remove\", bacon)"
   ]
  },
  {
   "cell_type": "code",
   "execution_count": null,
   "id": "b8430f7a",
   "metadata": {},
   "outputs": [],
   "source": [
    "Ans 9.\n",
    "The operator for list concatenation is +, while the operator for replication is *."
   ]
  },
  {
   "cell_type": "code",
   "execution_count": null,
   "id": "b681faa2",
   "metadata": {},
   "outputs": [],
   "source": [
    "Ans 10.\n",
    "The append() will add values only to the end of a list, insert() can add them anywhere in the list"
   ]
  },
  {
   "cell_type": "code",
   "execution_count": null,
   "id": "6b439fcc",
   "metadata": {},
   "outputs": [],
   "source": [
    "Ans 11.\n",
    "The del statement and the remove() method are two ways to remove values from a list."
   ]
  },
  {
   "cell_type": "code",
   "execution_count": null,
   "id": "f9a4d381",
   "metadata": {},
   "outputs": [],
   "source": [
    "Ans 12.\n",
    "Both lists and strings can be passed to len() function, have indexes and slices, be used in for loops, \n",
    "be concatenated or replicated, and be used with the in and not in operators."
   ]
  },
  {
   "cell_type": "code",
   "execution_count": null,
   "id": "dd1bba5a",
   "metadata": {},
   "outputs": [],
   "source": [
    "Ans 13.\n",
    "Lists are Mutable, Indexable and Slicable. they can have values added, removed, or changed. \n",
    "Tuples are Immutable but Indexable and Slicable. the tuple values cannot be changed at all. \n",
    "Also, tuples are represented using parentheses, (), while lists use the square brackets, []."
   ]
  },
  {
   "cell_type": "code",
   "execution_count": 10,
   "id": "60dc8b2c",
   "metadata": {},
   "outputs": [
    {
     "name": "stdout",
     "output_type": "stream",
     "text": [
      "<class 'tuple'>\n"
     ]
    }
   ],
   "source": [
    "# Ans 14.\n",
    "\n",
    "tup=(42,)\n",
    "print(type(tup))"
   ]
  },
  {
   "cell_type": "code",
   "execution_count": null,
   "id": "e1ff44e3",
   "metadata": {},
   "outputs": [],
   "source": [
    "Ans 15.\n",
    "The tuple() and list() functions, respectively are used to convert a list to tuple and vice versa."
   ]
  },
  {
   "cell_type": "code",
   "execution_count": null,
   "id": "4337360e",
   "metadata": {},
   "outputs": [],
   "source": [
    "Ans 16.\n",
    "They contain references to list values."
   ]
  },
  {
   "cell_type": "code",
   "execution_count": null,
   "id": "448e67a5",
   "metadata": {},
   "outputs": [],
   "source": [
    "Ans 17.\n",
    "The copy.copy() function will do a shallow copy of a list, while the copy.\n",
    "deepcopy() function will do a deep copy of a list. That is, only copy.deepcopy() will duplicate any lists inside the list."
   ]
  }
 ],
 "metadata": {
  "kernelspec": {
   "display_name": "Python 3 (ipykernel)",
   "language": "python",
   "name": "python3"
  },
  "language_info": {
   "codemirror_mode": {
    "name": "ipython",
    "version": 3
   },
   "file_extension": ".py",
   "mimetype": "text/x-python",
   "name": "python",
   "nbconvert_exporter": "python",
   "pygments_lexer": "ipython3",
   "version": "3.10.9"
  }
 },
 "nbformat": 4,
 "nbformat_minor": 5
}
