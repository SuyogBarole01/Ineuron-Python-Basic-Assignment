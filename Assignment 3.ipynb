{
 "cells": [
  {
   "cell_type": "code",
   "execution_count": null,
   "id": "b6a8388d",
   "metadata": {},
   "outputs": [],
   "source": [
    "Ans 1.\n",
    "Funtions are advantageous because once we define a function we can call it multiple times wherever needed."
   ]
  },
  {
   "cell_type": "code",
   "execution_count": null,
   "id": "d5c43029",
   "metadata": {},
   "outputs": [],
   "source": [
    "Ans 2.\n",
    "The code in a function executes when the function is called, not when the function is specified."
   ]
  },
  {
   "cell_type": "code",
   "execution_count": null,
   "id": "747634d3",
   "metadata": {},
   "outputs": [],
   "source": [
    "Ans 3.\n",
    "The def statement defines a function."
   ]
  },
  {
   "cell_type": "code",
   "execution_count": null,
   "id": "26ff87f3",
   "metadata": {},
   "outputs": [],
   "source": [
    "Ans 4.\n",
    "A function is procedure to achieve a particular result. while function call is using this function to achive that task.\n",
    "Using a function to do a particular task any point in program is called as function call."
   ]
  },
  {
   "cell_type": "code",
   "execution_count": null,
   "id": "9aa1d82d",
   "metadata": {},
   "outputs": [],
   "source": [
    "Ans 5.\n",
    "There is one global scope, and a local scope is created whenever a function is called."
   ]
  },
  {
   "cell_type": "code",
   "execution_count": null,
   "id": "f8ba387e",
   "metadata": {},
   "outputs": [],
   "source": [
    "Ans 6.\n",
    "When the function call returns all the local scope are destroyed and removed from the memory."
   ]
  },
  {
   "cell_type": "code",
   "execution_count": null,
   "id": "3fb4d9e1",
   "metadata": {},
   "outputs": [],
   "source": [
    "Ans 7.\n",
    "The value that a function return on a funtion call is called the return value.Like any value, a return value can be used as\n",
    "part of an expression."
   ]
  },
  {
   "cell_type": "code",
   "execution_count": null,
   "id": "4eeae76d",
   "metadata": {},
   "outputs": [],
   "source": [
    "Ans 8.\n",
    "If there is no return statement for a function, its return value is None."
   ]
  },
  {
   "cell_type": "code",
   "execution_count": null,
   "id": "0be7b263",
   "metadata": {},
   "outputs": [],
   "source": [
    "Ans 9.\n",
    "A global statement will force a variable in a function to refer to the global variable. If you want to refer to a global \n",
    "variable in a function, you can use the global keyword to declare which variables are global."
   ]
  },
  {
   "cell_type": "code",
   "execution_count": null,
   "id": "1866c8b0",
   "metadata": {},
   "outputs": [],
   "source": [
    "Ans 10.\n",
    "NoneType"
   ]
  },
  {
   "cell_type": "code",
   "execution_count": null,
   "id": "76d4b5bc",
   "metadata": {},
   "outputs": [],
   "source": [
    "Ans 11.\n",
    "The import statement imports a module named areallyourpetsnamederic"
   ]
  },
  {
   "cell_type": "code",
   "execution_count": null,
   "id": "82bfabf1",
   "metadata": {},
   "outputs": [],
   "source": [
    "Ans 12.\n",
    "We can cal the bacon() feature as spam.bacon()"
   ]
  },
  {
   "cell_type": "code",
   "execution_count": null,
   "id": "1ee846b6",
   "metadata": {},
   "outputs": [],
   "source": [
    "Ans 13.\n",
    "We can use try clause to catch the error & block clause to handle the error."
   ]
  },
  {
   "cell_type": "code",
   "execution_count": null,
   "id": "93438abb",
   "metadata": {},
   "outputs": [],
   "source": [
    "Ans 14.\n",
    "The code that could potentially cause an error goes in the try clause. The code that executes if an error happens goes \n",
    "in the except clause."
   ]
  }
 ],
 "metadata": {
  "kernelspec": {
   "display_name": "Python 3 (ipykernel)",
   "language": "python",
   "name": "python3"
  },
  "language_info": {
   "codemirror_mode": {
    "name": "ipython",
    "version": 3
   },
   "file_extension": ".py",
   "mimetype": "text/x-python",
   "name": "python",
   "nbconvert_exporter": "python",
   "pygments_lexer": "ipython3",
   "version": "3.10.9"
  }
 },
 "nbformat": 4,
 "nbformat_minor": 5
}
