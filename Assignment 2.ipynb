{
 "cells": [
  {
   "cell_type": "code",
   "execution_count": null,
   "id": "1b407817",
   "metadata": {},
   "outputs": [],
   "source": [
    "Ans 1.\n",
    "The two boolean characters are true and false.\n",
    "We write them as True and False"
   ]
  },
  {
   "cell_type": "code",
   "execution_count": null,
   "id": "cf59bc6e",
   "metadata": {},
   "outputs": [],
   "source": [
    "Ans 2.\n",
    "Boolean operators are or, and, not"
   ]
  },
  {
   "cell_type": "code",
   "execution_count": null,
   "id": "999501a8",
   "metadata": {},
   "outputs": [],
   "source": [
    "Ans 3.\n",
    "\n",
    "For Or operator:\n",
    "True or True is True\n",
    "True or False is True\n",
    "False or True is True\n",
    "False or False is False\n",
    "\n",
    "For And operator:\n",
    "True and True is True\n",
    "True and False is False\n",
    "False and True is False\n",
    "False and False is False\n",
    "\n",
    "For Not operator:\n",
    "not True is False\n",
    "not False is True"
   ]
  },
  {
   "cell_type": "code",
   "execution_count": null,
   "id": "4ad82579",
   "metadata": {},
   "outputs": [],
   "source": [
    "Ans 4.\n",
    "(5>4) and (3==5) is False\n",
    "not (5 > 4) is False\n",
    "(5 > 4) or (3 == 5) is True\n",
    "not ((5 > 4) or (3 == 5)) is False\n",
    "(True and True) and (True == False) is False\n",
    "(not False) or (not True) is True"
   ]
  },
  {
   "cell_type": "code",
   "execution_count": null,
   "id": "7f3e91a7",
   "metadata": {},
   "outputs": [],
   "source": [
    "Ans 5.\n",
    "The six different types of comparision operators are : ==, !=, <, >, <=, and >="
   ]
  },
  {
   "cell_type": "code",
   "execution_count": null,
   "id": "4fa6449b",
   "metadata": {},
   "outputs": [],
   "source": [
    "Ans 6.\n",
    "The equal operator checks whether the two given operands are equal or not\n",
    "The assignment operator is used to assign the value to the variable \n",
    "\n",
    "If there is need of comparing two variables or entities then we can use equal operator.\n",
    "if a==b:\n",
    "    \n",
    "To assign any variable any value, we can use assignment operator\n",
    "a=10"
   ]
  },
  {
   "cell_type": "code",
   "execution_count": null,
   "id": "b98dcf7c",
   "metadata": {},
   "outputs": [],
   "source": [
    "Ans 7.\n",
    "spam = 0\n",
    "if spam == 10:\n",
    "    print('eggs')\n",
    "    if spam > 5:\n",
    "        print('bacon')\n",
    "    else:\n",
    "        print('ham')\n",
    "    print('spam')\n",
    "print('spam')\n",
    "spam\n",
    "The outer if comprises of three blocks"
   ]
  },
  {
   "cell_type": "code",
   "execution_count": null,
   "id": "6c0df439",
   "metadata": {},
   "outputs": [],
   "source": [
    "Ans 8.\n",
    "spam=int(input())\n",
    "if spam==1:\n",
    "    print(\"Hello\")\n",
    "elif spam==2:\n",
    "    print(\"Howdy\")\n",
    "else:\n",
    "    print(\"Greetings!\")"
   ]
  },
  {
   "cell_type": "code",
   "execution_count": null,
   "id": "a2497544",
   "metadata": {},
   "outputs": [],
   "source": [
    "Ans 9.\n",
    "CTRL+C is used"
   ]
  },
  {
   "cell_type": "code",
   "execution_count": null,
   "id": "026ad2c7",
   "metadata": {},
   "outputs": [],
   "source": [
    "Ans 10.\n",
    "The break statement will move the execution outside just after a loop. The continue statement will move the execution to the start of the loop"
   ]
  },
  {
   "cell_type": "code",
   "execution_count": null,
   "id": "7d15a73f",
   "metadata": {},
   "outputs": [],
   "source": [
    "Ans 11.\n",
    "range(10)- This will generate values ranging from 0 to 9 and does not include 10\n",
    "range(0,10)- This will generate values ranging from 0 to 9 as it has explicitly called to start from 0\n",
    "range(0,10,1)- This will generate values ranging from 0 to 9 with step size specified to 1"
   ]
  },
  {
   "cell_type": "code",
   "execution_count": null,
   "id": "0baeb99f",
   "metadata": {},
   "outputs": [],
   "source": [
    "Ans 12.\n",
    "To print numbers from 1 to 10\n",
    "for i in range(1,11):\n",
    "    print(i)\n",
    "\n",
    "To print numbers from 1 to 10\n",
    "i=1\n",
    "while (i<11):\n",
    "    print(i)\n",
    "    i=i+1"
   ]
  },
  {
   "cell_type": "code",
   "execution_count": null,
   "id": "5a2ec51f",
   "metadata": {},
   "outputs": [],
   "source": [
    "Ans 13.\n",
    "This function can be called with spam.bacon()."
   ]
  }
 ],
 "metadata": {
  "kernelspec": {
   "display_name": "Python 3 (ipykernel)",
   "language": "python",
   "name": "python3"
  },
  "language_info": {
   "codemirror_mode": {
    "name": "ipython",
    "version": 3
   },
   "file_extension": ".py",
   "mimetype": "text/x-python",
   "name": "python",
   "nbconvert_exporter": "python",
   "pygments_lexer": "ipython3",
   "version": "3.10.9"
  }
 },
 "nbformat": 4,
 "nbformat_minor": 5
}
