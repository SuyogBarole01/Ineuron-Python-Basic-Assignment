{
 "cells": [
  {
   "cell_type": "raw",
   "id": "3ea143de",
   "metadata": {},
   "source": [
    "Ans 1.\n",
    "The two boolean characters are true and false.\n",
    "We write them as True and False"
   ]
  },
  {
   "cell_type": "raw",
   "id": "0240f892",
   "metadata": {},
   "source": [
    "Ans 2.\n",
    "Boolean operators are or, and, not"
   ]
  },
  {
   "cell_type": "raw",
   "id": "9835b3aa",
   "metadata": {},
   "source": [
    "Ans 3.\n",
    "\n",
    "For Or operator:\n",
    "True or True is True\n",
    "True or False is True\n",
    "False or True is True\n",
    "False or False is False\n",
    "\n",
    "For And operator:\n",
    "True and True is True\n",
    "True and False is False\n",
    "False and True is False\n",
    "False and False is False\n",
    "\n",
    "For Not operator:\n",
    "not True is False\n",
    "not False is True"
   ]
  },
  {
   "cell_type": "raw",
   "id": "3e49b306",
   "metadata": {},
   "source": [
    "Ans 4.\n",
    "(5>4) and (3==5) is False\n",
    "not (5 > 4) is False\n",
    "(5 > 4) or (3 == 5) is True\n",
    "not ((5 > 4) or (3 == 5)) is False\n",
    "(True and True) and (True == False) is False\n",
    "(not False) or (not True) is True"
   ]
  },
  {
   "cell_type": "raw",
   "id": "133a3d44",
   "metadata": {},
   "source": [
    "Ans 5.\n",
    "The six different types of comparision operators are : ==, !=, <, >, <=, and >="
   ]
  },
  {
   "cell_type": "raw",
   "id": "b1ea9d4a",
   "metadata": {},
   "source": [
    "Ans 6.\n",
    "The equal operator checks whether the two given operands are equal or not\n",
    "The assignment operator is used to assign the value to the variable \n",
    "\n",
    "If there is need of comparing two variables or entities then we can use equal operator.\n",
    "if a==b:\n",
    "    \n",
    "To assign any variable any value, we can use assignment operator\n",
    "a=10"
   ]
  },
  {
   "cell_type": "raw",
   "id": "732d0ab2",
   "metadata": {},
   "source": [
    "Ans 7.\n",
    "spam = 0\n",
    "if spam == 10:\n",
    "    print('eggs')\n",
    "    if spam > 5:\n",
    "        print('bacon')\n",
    "    else:\n",
    "        print('ham')\n",
    "    print('spam')\n",
    "print('spam')\n",
    "spam\n",
    "The outer if comprises of three blocks"
   ]
  },
  {
   "cell_type": "raw",
   "id": "5586b41f",
   "metadata": {},
   "source": [
    "Ans 8.\n",
    "spam=int(input())\n",
    "if spam==1:\n",
    "    print(\"Hello\")\n",
    "elif spam==2:\n",
    "    print(\"Howdy\")\n",
    "else:\n",
    "    print(\"Greetings!\")"
   ]
  },
  {
   "cell_type": "raw",
   "id": "2dc8c4df",
   "metadata": {},
   "source": [
    "Ans 9.\n",
    "CTRL+C is used"
   ]
  },
  {
   "cell_type": "raw",
   "id": "0346de96",
   "metadata": {},
   "source": [
    "Ans 10.\n",
    "The break statement will move the execution outside just after a loop. The continue statement will move the execution to the start of the loop"
   ]
  },
  {
   "cell_type": "raw",
   "id": "2a7c5af8",
   "metadata": {},
   "source": [
    "Ans 11.\n",
    "range(10)- This will generate values ranging from 0 to 9 and does not include 10\n",
    "range(0,10)- This will generate values ranging from 0 to 9 as it has explicitly called to start from 0\n",
    "range(0,10,1)- This will generate values ranging from 0 to 9 with step size specified to 1"
   ]
  },
  {
   "cell_type": "raw",
   "id": "0730f32c",
   "metadata": {},
   "source": [
    "Ans 12.\n",
    "To print numbers from 1 to 10\n",
    "for i in range(1,11):\n",
    "    print(i)\n",
    "\n",
    "To print numbers from 1 to 10\n",
    "i=1\n",
    "while (i<11):\n",
    "    print(i)\n",
    "    i=i+1"
   ]
  },
  {
   "cell_type": "raw",
   "id": "2c1540ff",
   "metadata": {},
   "source": [
    "Ans 13.\n",
    "This function can be called with spam.bacon()."
   ]
  }
 ],
 "metadata": {
  "kernelspec": {
   "display_name": "Python 3 (ipykernel)",
   "language": "python",
   "name": "python3"
  },
  "language_info": {
   "codemirror_mode": {
    "name": "ipython",
    "version": 3
   },
   "file_extension": ".py",
   "mimetype": "text/x-python",
   "name": "python",
   "nbconvert_exporter": "python",
   "pygments_lexer": "ipython3",
   "version": "3.9.13"
  }
 },
 "nbformat": 4,
 "nbformat_minor": 5
}
