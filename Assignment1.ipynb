{
 "cells": [
  {
   "cell_type": "raw",
   "id": "ffdc7dcc",
   "metadata": {},
   "source": [
    "Ans 1.\n",
    "Values:-\n",
    "hello\n",
    "-87.8\n",
    "6\n",
    "Expressions:-\n",
    "*\n",
    "-\n",
    "/\n",
    "+"
   ]
  },
  {
   "cell_type": "raw",
   "id": "187fd351",
   "metadata": {},
   "source": [
    "Ans 2.\n",
    "Strings are text storing data types\n",
    "Variable are something which stores any kind of datatype"
   ]
  },
  {
   "cell_type": "raw",
   "id": "6d97c7a6",
   "metadata": {},
   "source": [
    "Ans 3.\n",
    "Three different datatypes are:-\n",
    "1. Int:- Int data type stores data of type integer.\n",
    "2. Float:- Float data type stores data of type decimal\n",
    "3. String:- This data type stores text.    "
   ]
  },
  {
   "cell_type": "raw",
   "id": "3861607a",
   "metadata": {},
   "source": [
    "Ans 4.\n",
    "An expression is a combination of operators, constants and variables.\n",
    "There are three types of expressions,\n",
    "1. Arithmetic Expression evaluates to arithmetic value\n",
    "2. Character expression evaluates to single vlaue of type character\n",
    "3. Logical expression evaluates to a single logical value\n"
   ]
  },
  {
   "cell_type": "raw",
   "id": "f1a5d4b8",
   "metadata": {},
   "source": [
    "Ans 5.\n",
    "An expression evaluates to single value \n",
    "Statements does not evaluates to single value."
   ]
  },
  {
   "cell_type": "raw",
   "id": "a2fc696f",
   "metadata": {},
   "source": [
    "Ans 6.\n",
    "bacon will contain 22"
   ]
  },
  {
   "cell_type": "raw",
   "id": "1ee462f3",
   "metadata": {},
   "source": [
    "Ans 7.\n",
    "'spamspamspam'\n",
    "'spamspamspam'"
   ]
  },
  {
   "cell_type": "raw",
   "id": "6a95b7f3",
   "metadata": {},
   "source": [
    "Ans 8.\n",
    "- eggs is valid variable name as eggs is not a predefined keyword in python and eggs does not start with number\n",
    "or with any special character\n",
    "- 100 is not a valid variable name as it starts with numeric value"
   ]
  },
  {
   "cell_type": "raw",
   "id": "c144d99c",
   "metadata": {},
   "source": [
    "Ans 9.\n",
    "To get integer value, int() function can be used\n",
    "To get floating point value, float() function can be used\n",
    "To get string value, str() function can be used"
   ]
  },
  {
   "cell_type": "raw",
   "id": "005a950c",
   "metadata": {},
   "source": [
    "Ans 10.\n",
    "'I have eaten'+99+'burritos'\n",
    "Reason behind the above expression is causing error because only same data types can be added\n",
    "\n",
    "To fix this, 99 should also be writen as string\n",
    "'I have eaten'+'99'+'burritos'"
   ]
  }
 ],
 "metadata": {
  "kernelspec": {
   "display_name": "Python 3 (ipykernel)",
   "language": "python",
   "name": "python3"
  },
  "language_info": {
   "codemirror_mode": {
    "name": "ipython",
    "version": 3
   },
   "file_extension": ".py",
   "mimetype": "text/x-python",
   "name": "python",
   "nbconvert_exporter": "python",
   "pygments_lexer": "ipython3",
   "version": "3.10.9"
  }
 },
 "nbformat": 4,
 "nbformat_minor": 5
}
