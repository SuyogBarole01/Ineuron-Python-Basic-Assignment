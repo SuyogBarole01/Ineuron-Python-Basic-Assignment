{
 "cells": [
  {
   "cell_type": "code",
   "execution_count": null,
   "id": "7d0229b1",
   "metadata": {},
   "outputs": [],
   "source": [
    "Ans 1.\n",
    "Values:-\n",
    "hello\n",
    "-87.8\n",
    "6\n",
    "Expressions:-\n",
    "*\n",
    "-\n",
    "/\n",
    "+"
   ]
  },
  {
   "cell_type": "code",
   "execution_count": null,
   "id": "29ef01c0",
   "metadata": {},
   "outputs": [],
   "source": [
    "Ans 2.\n",
    "Strings are text storing data types\n",
    "Variable are something which stores any kind of datatype"
   ]
  },
  {
   "cell_type": "code",
   "execution_count": null,
   "id": "7d4d03ab",
   "metadata": {},
   "outputs": [],
   "source": [
    "Ans 3.\n",
    "Three different datatypes are:-\n",
    "1. Int:- Int data type stores data of type integer.\n",
    "2. Float:- Float data type stores data of type decimal\n",
    "3. String:- This data type stores text.    "
   ]
  },
  {
   "cell_type": "code",
   "execution_count": null,
   "id": "4aa0c271",
   "metadata": {},
   "outputs": [],
   "source": [
    "Ans 4.\n",
    "An expression is a combination of operators, constants and variables.\n",
    "There are three types of expressions,\n",
    "1. Arithmetic Expression evaluates to arithmetic value\n",
    "2. Character expression evaluates to single vlaue of type character\n",
    "3. Logical expression evaluates to a single logical value\n"
   ]
  },
  {
   "cell_type": "code",
   "execution_count": null,
   "id": "bf3504ec",
   "metadata": {},
   "outputs": [],
   "source": [
    "Ans 5.\n",
    "An expression evaluates to single value \n",
    "Statements does not evaluates to single value."
   ]
  },
  {
   "cell_type": "code",
   "execution_count": null,
   "id": "9a72c3e3",
   "metadata": {},
   "outputs": [],
   "source": [
    "Ans 6.\n",
    "bacon will contain 22"
   ]
  },
  {
   "cell_type": "code",
   "execution_count": null,
   "id": "5cdbfd6c",
   "metadata": {},
   "outputs": [],
   "source": [
    "Ans 7.\n",
    "'spamspamspam'\n",
    "'spamspamspam'"
   ]
  },
  {
   "cell_type": "code",
   "execution_count": null,
   "id": "768eb257",
   "metadata": {},
   "outputs": [],
   "source": [
    "Ans 8.\n",
    "- eggs is valid variable name as eggs is not a predefined keyword in python and eggs does not start with number\n",
    "or with any special character\n",
    "- 100 is not a valid variable name as it starts with numeric value"
   ]
  },
  {
   "cell_type": "code",
   "execution_count": null,
   "id": "d40fe8b7",
   "metadata": {},
   "outputs": [],
   "source": [
    "Ans 9.\n",
    "To get integer value, int() function can be used\n",
    "To get floating point value, float() function can be used\n",
    "To get string value, str() function can be used"
   ]
  },
  {
   "cell_type": "code",
   "execution_count": null,
   "id": "f5869669",
   "metadata": {},
   "outputs": [],
   "source": [
    "Ans 10.\n",
    "'I have eaten'+99+'burritos'\n",
    "Reason behind the above expression is causing error because only same data types can be added\n",
    "\n",
    "To fix this, 99 should also be writen as string\n",
    "'I have eaten'+'99'+'burritos'"
   ]
  }
 ],
 "metadata": {
  "kernelspec": {
   "display_name": "Python 3 (ipykernel)",
   "language": "python",
   "name": "python3"
  },
  "language_info": {
   "codemirror_mode": {
    "name": "ipython",
    "version": 3
   },
   "file_extension": ".py",
   "mimetype": "text/x-python",
   "name": "python",
   "nbconvert_exporter": "python",
   "pygments_lexer": "ipython3",
   "version": "3.10.9"
  }
 },
 "nbformat": 4,
 "nbformat_minor": 5
}
